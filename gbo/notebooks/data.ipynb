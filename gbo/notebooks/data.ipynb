{
 "cells": [
  {
   "cell_type": "code",
   "execution_count": null,
   "id": "04842a0e",
   "metadata": {},
   "outputs": [],
   "source": [
    "%matplotlib inline"
   ]
  },
  {
   "cell_type": "code",
   "execution_count": null,
   "id": "a6d05378",
   "metadata": {},
   "outputs": [],
   "source": [
    "# cell 0\n",
    "import glob, pickle, csv\n",
    "from pathlib import Path\n",
    "import numpy as np\n",
    "import pandas as pd\n",
    "import matplotlib.pyplot as plt\n",
    "from mpl_toolkits.mplot3d import Axes3D               # noqa: F401 (side-effect)\n",
    "from matplotlib.animation import FuncAnimation\n",
    "import ipywidgets as widgets\n",
    "from IPython.display import display, HTML\n"
   ]
  },
  {
   "cell_type": "code",
   "execution_count": null,
   "id": "d9de4bc1",
   "metadata": {},
   "outputs": [],
   "source": [
    "# cell 1 ── locate & load every snapshot  (FIXED)\n",
    "run = Path(\"/Users/c3495249/Coding/growth_based_optimization/gbo/demo_1\")  # ← your output dir\n",
    "assert run.is_dir(), f\"{run} does not exist\"\n",
    "\n",
    "snap_paths = sorted(run.glob(\"snapshot_*.pkl\"))\n",
    "assert snap_paths, f\"No snapshot_XXXXX.pkl files found in {run}\"\n",
    "\n",
    "snapshots = []\n",
    "for p in snap_paths:\n",
    "    with p.open(\"rb\") as fh:\n",
    "        snapshots.append(pickle.load(fh))\n",
    "\n",
    "print(f\"{len(snapshots)} snapshots loaded \"\n",
    "      f\"(iters {snapshots[0]['iter']} … {snapshots[-1]['iter']})\")\n"
   ]
  },
  {
   "cell_type": "code",
   "execution_count": null,
   "id": "01b6bc9d",
   "metadata": {},
   "outputs": [],
   "source": [
    "# cell 2 ── small convenience: convert a VascularTree into numpy arrays for plotting\n",
    "def tree_to_arrays(tree):\n",
    "    G = tree.graph\n",
    "    # node coordinates & radii\n",
    "    xyz = np.array([G.nodes[n][\"data\"].pos for n in G.nodes])\n",
    "    r   = np.array([G.nodes[n][\"data\"].radius for n in G.nodes])\n",
    "    # every edge as two 3-D points  (for fast Line3DCollection later if you wish)\n",
    "    edges = []\n",
    "    for u, v in G.edges:\n",
    "        edges.append((G.nodes[u][\"data\"].pos, G.nodes[v][\"data\"].pos))\n",
    "    return xyz, r, np.array(edges)        # xyz, radii, (E,2,3)\n"
   ]
  },
  {
   "cell_type": "code",
   "execution_count": null,
   "id": "6993a4ee",
   "metadata": {},
   "outputs": [],
   "source": [
    "# cell 3 ── set up matplotlib figure (tree on the left, supply-map slice on the right)\n",
    "fig = plt.figure(figsize=(12, 5))\n",
    "ax_tree   = fig.add_subplot(1, 2, 1, projection='3d')\n",
    "ax_supply = fig.add_subplot(1, 2, 2)\n",
    "ax_tree.set_title(\"vascular tree\")\n",
    "ax_supply.set_title(\"supply map (mid-Z slice)\")\n",
    "plt.tight_layout()\n"
   ]
  },
  {
   "cell_type": "code",
   "execution_count": null,
   "id": "bcddc395",
   "metadata": {},
   "outputs": [],
   "source": [
    "# cell 4 ── interactive slider to scrub frames\n",
    "slider = widgets.IntSlider(\n",
    "    value=0,\n",
    "    min=0,\n",
    "    max=len(snapshots)-1,\n",
    "    step=1,\n",
    "    description='iter:',\n",
    "    continuous_update=False,\n",
    ")\n",
    "display(slider)\n"
   ]
  },
  {
   "cell_type": "code",
   "execution_count": null,
   "id": "5fc2d64a",
   "metadata": {},
   "outputs": [],
   "source": [
    "# cell 5\n",
    "def draw_frame(idx):\n",
    "    snap = snapshots[idx]\n",
    "    tree   = snap[\"tree\"]\n",
    "    tissue = snap[\"tissue\"]\n",
    "    \n",
    "    # ---------- left: tree --------------------------------------------------\n",
    "    ax_tree.cla()\n",
    "    xyz, r, edges = tree_to_arrays(tree)\n",
    "    # plot edges\n",
    "    for seg in edges:\n",
    "        ax_tree.plot(*seg.T, color=\"tab:blue\", linewidth=1.0)\n",
    "    # plot terminals in orange\n",
    "    term_ids = tree.terminals()\n",
    "    term_xyz = xyz[term_ids]\n",
    "    ax_tree.scatter(*term_xyz.T, s=10, color=\"tab:orange\")\n",
    "    ax_tree.set_xlim(-30, 30); ax_tree.set_ylim(-30, 30); ax_tree.set_zlim(-30, 30)\n",
    "    ax_tree.set_xlabel(\"x [mm]\"); ax_tree.set_ylabel(\"y [mm]\"); ax_tree.set_zlabel(\"z [mm]\")\n",
    "    ax_tree.set_title(f\"Tree – iter {snap['iter']}  (|tips|={len(term_ids)})\")\n",
    "\n",
    "    # ---------- right: supply map -------------------------------------------\n",
    "    # supplied  : voxels with ownership >= 0\n",
    "    # unsupplied: ownership == -1     (inside Ω yet not covered)\n",
    "    own = tissue.ownership\n",
    "    mid_z = own.shape[0] // 2\n",
    "    slc  = own[mid_z]\n",
    "    ax_supply.cla()\n",
    "    ax_supply.imshow(slc >= 0, cmap=\"Greys\", origin=\"lower\")\n",
    "    ax_supply.set_title(\"(supplied = white)\\nZ-slice {:.0f} mm\".format(\n",
    "        tissue.origin[2] + (mid_z+0.5)*tissue.spacing))\n",
    "    ax_supply.set_xticks([]); ax_supply.set_yticks([])\n",
    "\n",
    "    fig.canvas.draw_idle()\n"
   ]
  },
  {
   "cell_type": "code",
   "execution_count": null,
   "id": "5188a053",
   "metadata": {},
   "outputs": [],
   "source": [
    "# cell 6 ── update on slider drag\n",
    "slider.observe(lambda ch: draw_frame(ch[\"new\"]), names=\"value\")\n",
    "# draw first frame\n",
    "draw_frame(0)\n"
   ]
  },
  {
   "cell_type": "code",
   "execution_count": null,
   "id": "97100630",
   "metadata": {},
   "outputs": [],
   "source": [
    "# cell 7 ── automatic animation (comment out if you prefer manual slider only)\n",
    "def _update(frame):\n",
    "    slider.value = frame\n",
    "    return []           # FuncAnimation needs something iterable\n",
    "\n",
    "ani = FuncAnimation(fig, _update, frames=len(snapshots), interval=400, blit=True)\n",
    "HTML(ani.to_jshtml())    # inline in Jupyter\n"
   ]
  },
  {
   "cell_type": "code",
   "execution_count": null,
   "id": "92c6ebe8",
   "metadata": {},
   "outputs": [],
   "source": [
    "# cell 8 ── one-time loss curve\n",
    "loss_file = Path(\"loss_history.csv\")\n",
    "if loss_file.exists():\n",
    "    iters, losses = [], []\n",
    "    with loss_file.open() as fh:\n",
    "        reader = csv.DictReader(fh)\n",
    "        for row in reader:\n",
    "            iters.append(int(row[\"iter\"]))\n",
    "            # if you stored more components add them here; we stored L_total only\n",
    "            losses.append(float(row[\"L_total\"]))\n",
    "    plt.figure()\n",
    "    plt.semilogy(iters, losses)\n",
    "    plt.xlabel(\"iteration\")\n",
    "    plt.ylabel(\"total loss L\")\n",
    "    plt.title(\"Loss history\")\n",
    "    plt.grid(True, which='both')\n",
    "else:\n",
    "    print(\"loss_history.csv not found – did you enable snapshot / loss logging?\")\n"
   ]
  },
  {
   "cell_type": "code",
   "execution_count": null,
   "id": "4a60c36d",
   "metadata": {},
   "outputs": [],
   "source": [
    "# ----- 1. plot loss curve -------------------------------------------\n",
    "loss = pd.read_csv(run / \"loss_history.csv\")\n",
    "fig, ax = plt.subplots()\n",
    "ax.plot(loss[\"iter\"], loss[\"L_total\"])\n",
    "ax.set(xlabel=\"iteration\", ylabel=\"Total loss L\")"
   ]
  },
  {
   "cell_type": "code",
   "execution_count": null,
   "id": "c1d1e610",
   "metadata": {},
   "outputs": [],
   "source": [
    "# ----- 2. animate supplied voxels -----------------------------------\n",
    "from matplotlib.animation import FuncAnimation\n",
    "snaps = sorted(run.glob(\"tissue_*.npz\"))\n",
    "\n",
    "fig2, ax2 = plt.subplots()\n",
    "im = ax2.imshow(np.zeros((64,64)))       # dummy init\n",
    "\n",
    "def update(i):\n",
    "    data = np.load(snaps[i])[\"ownership\"]\n",
    "    slice_xy = data[:, :, data.shape[2]//2]   # mid-Z slice\n",
    "    im.set_data(slice_xy)\n",
    "    ax2.set_title(f\"iter {i}\")              # 5 if snapshot_every == 5\n",
    "    return (im,)\n",
    "\n",
    "ani = FuncAnimation(fig2, update, frames=len(snaps), interval=200)"
   ]
  },
  {
   "cell_type": "code",
   "execution_count": null,
   "id": "8520c780",
   "metadata": {},
   "outputs": [],
   "source": [
    "ani.save(\"supply_evolution.gif\", dpi=80)\n"
   ]
  },
  {
   "cell_type": "code",
   "execution_count": null,
   "id": "7fd54da3",
   "metadata": {},
   "outputs": [],
   "source": [
    "# ─── nodes & edges of a given iter ──────────────────────────────\n",
    "it = 11\n",
    "nodes = pd.read_csv(run_dir / f\"nodes_{it:05d}.csv\")\n",
    "edges = pd.read_csv(run_dir / f\"edges_{it:05d}.csv\")\n",
    "\n",
    "# ─── supply map ─────────────────────────────────────────────────\n",
    "data   = np.load(run_dir / f\"tissue_{it:05d}.npz\")\n",
    "owner  = data[\"ownership\"]         # int32\n",
    "demand = data[\"demand\"]            # float32\n",
    "\n",
    "# ─── metadata & losses ──────────────────────────────────────────\n",
    "with open(run_dir / f\"meta_{it:05d}.json\") as fh:\n",
    "    meta = json.load(fh)\n",
    "print(\"iteration\", meta[\"iter\"], \"losses\", meta[\"losses\"])\n",
    "\n",
    "# ─── quick visual: supplied vs unsupplied voxels ────────────────\n",
    "plt.imshow(owner[owner.shape[0]//2,:,:], origin=\"lower\")\n",
    "plt.title(f\"ownership map, z-midplane, iter {it}\")\n",
    "plt.colorbar(); plt.show()"
   ]
  }
 ],
 "metadata": {
  "kernelspec": {
   "display_name": "thermo311",
   "language": "python",
   "name": "python3"
  },
  "language_info": {
   "codemirror_mode": {
    "name": "ipython",
    "version": 3
   },
   "file_extension": ".py",
   "mimetype": "text/x-python",
   "name": "python",
   "nbconvert_exporter": "python",
   "pygments_lexer": "ipython3",
   "version": "3.11.12"
  }
 },
 "nbformat": 4,
 "nbformat_minor": 5
}
